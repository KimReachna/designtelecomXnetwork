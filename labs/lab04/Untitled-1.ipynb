{
 "cells": [
  {
   "cell_type": "code",
   "execution_count": 1,
   "metadata": {},
   "outputs": [],
   "source": [
    "import math\n",
    "import numpy as np\n",
    "import matplotlib.pyplot as plt"
   ]
  },
  {
   "cell_type": "code",
   "execution_count": 2,
   "metadata": {},
   "outputs": [],
   "source": [
    "C = 20\n",
    "g = 5\n",
    "lambda1 = 20\n",
    "lambda2 = 2\n",
    "mu = 0.5\n",
    "rho1 = lambda1/mu\n",
    "rho2 = lambda2/mu"
   ]
  },
  {
   "cell_type": "code",
   "execution_count": 3,
   "metadata": {},
   "outputs": [],
   "source": [
    "def p_00(rho1, rho2, g, C):\n",
    "    sum_n1n2 = 0.0\n",
    "    for n1 in range(0, g+1):\n",
    "        for n2 in range(0, C+1):\n",
    "            if n1+n2 < C+1:\n",
    "                sum_n1n2 += (math.pow(rho1, n1) / math.factorial(n1)) * (math.pow(rho2, n2) / math.factorial(n2))\n",
    "    return 1.0 / sum_n1n2\n",
    "p00 = p_00\n",
    "def p_(n1,n2):\n",
    "    p=0\n",
    "    for n1 in range(0, g+1):\n",
    "        for n2 in range(0, C+1):\n",
    "            if ((n1==0) and (n2==0)):\n",
    "                continue\n",
    "            else:\n",
    "                if (n1+n2 < C+1):\n",
    "                    p = p00 * (math.pow(rho1, n1) / math.factorial(n1)) * (math.pow(rho2, n2) / math.factorial(n2))\n",
    "    return p"
   ]
  },
  {
   "cell_type": "code",
   "execution_count": 4,
   "metadata": {},
   "outputs": [
    {
     "name": "stdout",
     "output_type": "stream",
     "text": [
      "Probability in state 0: p00 =  <function p_00 at 0x00000184D4E451F0>\n"
     ]
    }
   ],
   "source": [
    "print(\"Probability in state 0: p00 = \", p_00)"
   ]
  },
  {
   "cell_type": "code",
   "execution_count": 5,
   "metadata": {},
   "outputs": [
    {
     "name": "stdout",
     "output_type": "stream",
     "text": [
      "Probability in state 0: p00 = 0.002050405809483127\n"
     ]
    }
   ],
   "source": [
    "import math\n",
    "import numpy as np\n",
    "import matplotlib.pyplot as plt\n",
    "\n",
    "def p_00(C, rho1, rho2, g):\n",
    "    p = [[0 for _ in range(C+1)] for _ in range(g+1)]  # Initialize a 2D array to store probabilities\n",
    "\n",
    "    for n1 in range(0, g + 1):\n",
    "        for n2 in range(0, C + 1):\n",
    "            if n1 + n2 <= C:\n",
    "                p[n1][n2] = 0\n",
    "\n",
    "    for n1 in range(0, g + 1):\n",
    "        for n2 in range(0, C + 1):\n",
    "            if n1 + n2 <= C:\n",
    "                p[0][0] += math.pow(rho1, n1) * math.pow(rho2, n2) / (math.factorial(n1) * math.factorial(n2))\n",
    "\n",
    "    p[0][0] = 1 / p[0][0]\n",
    "\n",
    "    for n1 in range(0, g + 1):\n",
    "        for n2 in range(0, C + 1):\n",
    "            if n1 == 0 and n2 == 0:\n",
    "                continue\n",
    "            if n1 + n2 <= C:\n",
    "                p[n1][n2] = p[0][0] * math.pow(rho1, n1) * math.pow(rho2, n2) / (math.factorial(n1) * math.factorial(n2))\n",
    "\n",
    "    return p\n",
    "\n",
    "C = 4\n",
    "g = 3\n",
    "lambda1 = 20\n",
    "lambda2 = 2\n",
    "mu = 2\n",
    "rho1 = lambda1 / mu\n",
    "rho2 = lambda2 / mu\n",
    "\n",
    "probabilities = p_00(C, rho1, rho2, g)\n",
    "\n",
    "# Print the probability in state 0\n",
    "print(\"Probability in state 0: p00 =\", probabilities[0][0])\n",
    "\n"
   ]
  },
  {
   "cell_type": "code",
   "execution_count": null,
   "metadata": {},
   "outputs": [],
   "source": [
    "import numpy as np\n",
    "import math\n",
    "C = 50\n",
    "g = 35\n",
    "lambda1 = 30\n",
    "lambda2 = 20\n",
    "mu = 0.8\n",
    "rho1 = lambda1/mu\n",
    "rho2 = lambda2/mu\n",
    "\n",
    "\n",
    "def probability_0(rho1, rho2, g, C):\n",
    "    '''\n",
    "    Определите функцию для вычисления вероятности того, что система находится в состоянии 0, то есть все серверы системы бездействуют или свободны.\n",
    "    '''\n",
    "    sum_  = 0\n",
    "    for n in np.arange(C+1):\n",
    "        if n <= g:\n",
    "            sum_ += math.pow(rho1 + rho2, n) / math.factorial(n)\n",
    "        else:\n",
    "            sum_ += math.pow(rho1 + rho2, g) * math.pow(rho1, n - g) / math.factorial(n)\n",
    "    return 1 / sum_\n",
    "\n",
    "def probability_n(n, rho1, rho2, g, C):\n",
    "    '''\n",
    "    Определенная функция для вычисления вероятности стационарности системы, если система стационарна в состоянии n, где 1 <= n <= C.\n",
    "    '''\n",
    "    p_n = 0 # initialize p_n\n",
    "    p_0 = probability_0(rho1=rho1, rho2=rho2, g=g, C=C)\n",
    "    if n == 0:\n",
    "        # print(\"n = 0\")\n",
    "        p_n = p_0\n",
    "    elif n < g + 1:\n",
    "        # print(\"1 to g\")\n",
    "        p_n = p_0 * math.pow(rho1 + rho2, n) / math.factorial(n)\n",
    "    elif n < C +1:\n",
    "        # print(\"g+1 to C\")\n",
    "        p_n = (p_0 * math.pow(rho1 + rho2, g) * math.pow(rho1, n - g)) / math.factorial(n)\n",
    "    return p_n"
   ]
  }
 ],
 "metadata": {
  "kernelspec": {
   "display_name": "Python 3",
   "language": "python",
   "name": "python3"
  },
  "language_info": {
   "codemirror_mode": {
    "name": "ipython",
    "version": 3
   },
   "file_extension": ".py",
   "mimetype": "text/x-python",
   "name": "python",
   "nbconvert_exporter": "python",
   "pygments_lexer": "ipython3",
   "version": "3.9.13"
  }
 },
 "nbformat": 4,
 "nbformat_minor": 2
}
