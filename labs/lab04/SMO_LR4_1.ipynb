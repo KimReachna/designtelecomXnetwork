{
  "cells": [
    {
      "cell_type": "code",
      "execution_count": 40,
      "metadata": {},
      "outputs": [],
      "source": [
        "import numpy as np\n",
        "import matplotlib.pyplot as plt\n",
        "import math"
      ]
    },
    {
      "cell_type": "code",
      "execution_count": 41,
      "metadata": {},
      "outputs": [],
      "source": [
        "C=20\n",
        "g=5\n",
        "start_value=1 #это для ламда 1\n",
        "last_value=20\n",
        "lambda2=2\n",
        "mu=1.5\n",
        "rho2=0\n",
        "k=0\n",
        "lambda1=[]\n",
        "rho1=[]\n",
        "B1=[]\n",
        "B2=[]\n",
        "p=[[]]\n",
        "step=0.5"
      ]
    },
    {
      "cell_type": "code",
      "execution_count": 42,
      "metadata": {
        "id": "bNKvsRSGn2f8"
      },
      "outputs": [],
      "source": [
        "#def factorial(i): # это для факториала\n",
        "    #fc = 1\n",
        "    #for j in range(2, i+1):\n",
        "        #fc = fc*j;\n",
        "    #return fc\n"
      ]
    },
    {
      "cell_type": "code",
      "execution_count": 43,
      "metadata": {
        "id": "FnJm1RdLn2f-"
      },
      "outputs": [],
      "source": [
        "def vertn(C, rho1, rho2, p, g): #вероятности\n",
        "\n",
        "    for n1 in range(0, g+1):\n",
        "        for n2 in range(0, C+1):\n",
        "            if n1+n2<C+1:\n",
        "                p[n1][n2]=0\n",
        "\n",
        "    for n1 in range(0, g+1):\n",
        "        for n2 in range(0, C+1):\n",
        "            if n1+n2<C+1:\n",
        "                p[0][0] = p[0][0] + math.pow(rho1, n1) * math.pow(rho2, n2) / (math.factorial(n1)*math.factorial(n2))\n",
        "\n",
        "    p[0][0] = 1/p[0][0];\n",
        "\n",
        "    for n1 in range(0, g+1):\n",
        "        for n2 in range(0, C+1):\n",
        "            if ((n1==0) and (n2==0)):\n",
        "                continue\n",
        "            else:\n",
        "                if (n1+n2<C+1):\n",
        "                    p[n1][n2] = p[0][0] * math.pow(rho1, n1) * math.pow(rho2, n2) / (math.factorial(n1)*math.factorial(n2))\n",
        "    return p"
      ]
    },
    {
      "cell_type": "code",
      "execution_count": 60,
      "metadata": {},
      "outputs": [
        {
          "data": {
            "text/plain": [
              "4.9484932253003285e-05"
            ]
          },
          "execution_count": 60,
          "metadata": {},
          "output_type": "execute_result"
        }
      ],
      "source": [
        "p[0][0]"
      ]
    },
    {
      "cell_type": "code",
      "execution_count": 61,
      "metadata": {},
      "outputs": [
        {
          "data": {
            "text/plain": [
              "array([[4.94849323e-05, 6.59799097e-05, 4.39866064e-05, 1.95496029e-05,\n",
              "        6.51653429e-06, 1.73774248e-06, 3.86164995e-07, 7.35552371e-08,\n",
              "        1.22592062e-08, 1.81617869e-09, 2.42157159e-10, 2.93523829e-11,\n",
              "        3.26137588e-12, 3.34500090e-13, 3.18571515e-14, 2.83174680e-15,\n",
              "        2.35978900e-16, 1.85081490e-17, 1.37097400e-18, 9.62087018e-20,\n",
              "        6.41391345e-21],\n",
              "       [6.59799097e-04, 8.79732129e-04, 5.86488086e-04, 2.60661372e-04,\n",
              "        8.68871238e-05, 2.31698997e-05, 5.14886660e-06, 9.80736495e-07,\n",
              "        1.63456082e-07, 2.42157159e-08, 3.22876212e-09, 3.91365106e-10,\n",
              "        4.34850118e-11, 4.46000121e-12, 4.24762020e-13, 3.77566240e-14,\n",
              "        3.14638533e-15, 2.46775320e-16, 1.82796533e-17, 1.28278269e-18,\n",
              "        0.00000000e+00],\n",
              "       [4.39866064e-03, 5.86488086e-03, 3.90992057e-03, 1.73774248e-03,\n",
              "        5.79247492e-04, 1.54465998e-04, 3.43257773e-05, 6.53824330e-06,\n",
              "        1.08970722e-06, 1.61438106e-07, 2.15250808e-08, 2.60910071e-09,\n",
              "        2.89900078e-10, 2.97333414e-11, 2.83174680e-12, 2.51710826e-13,\n",
              "        2.09759022e-14, 1.64516880e-15, 1.21864356e-16, 0.00000000e+00,\n",
              "        0.00000000e+00],\n",
              "       [1.95496029e-02, 2.60661372e-02, 1.73774248e-02, 7.72329990e-03,\n",
              "        2.57443330e-03, 6.86515546e-04, 1.52559010e-04, 2.90588591e-05,\n",
              "        4.84314318e-06, 7.17502694e-07, 9.56670259e-08, 1.15960031e-08,\n",
              "        1.28844479e-09, 1.32148184e-10, 1.25855413e-11, 1.11871478e-12,\n",
              "        9.32262320e-14, 7.31186133e-15, 0.00000000e+00, 0.00000000e+00,\n",
              "        0.00000000e+00],\n",
              "       [6.51653429e-02, 8.68871238e-02, 5.79247492e-02, 2.57443330e-02,\n",
              "        8.58144433e-03, 2.28838515e-03, 5.08530034e-04, 9.68628637e-05,\n",
              "        1.61438106e-05, 2.39167565e-06, 3.18890086e-07, 3.86533438e-08,\n",
              "        4.29481598e-09, 4.40493946e-10, 4.19518044e-11, 3.72904928e-12,\n",
              "        3.10754107e-13, 0.00000000e+00, 0.00000000e+00, 0.00000000e+00,\n",
              "        0.00000000e+00],\n",
              "       [1.73774248e-01, 2.31698997e-01, 1.54465998e-01, 6.86515546e-02,\n",
              "        2.28838515e-02, 6.10236041e-03, 1.35608009e-03, 2.58300970e-04,\n",
              "        4.30501616e-05, 6.37780172e-06, 8.50373563e-07, 1.03075583e-07,\n",
              "        1.14528426e-08, 1.17465052e-09, 1.11871478e-10, 9.94413142e-12,\n",
              "        0.00000000e+00, 0.00000000e+00, 0.00000000e+00, 0.00000000e+00,\n",
              "        0.00000000e+00]])"
            ]
          },
          "execution_count": 61,
          "metadata": {},
          "output_type": "execute_result"
        }
      ],
      "source": [
        "p"
      ]
    },
    {
      "cell_type": "code",
      "execution_count": null,
      "metadata": {},
      "outputs": [],
      "source": []
    },
    {
      "cell_type": "code",
      "execution_count": 44,
      "metadata": {
        "id": "XCE1g-CNn2f_"
      },
      "outputs": [],
      "source": [
        "while(start_value<=last_value):\n",
        "    start_value += step\n",
        "    k=k+1\n",
        "\n",
        "start_value=1\n",
        "\n",
        "B1 = np.zeros(k)\n",
        "N = np.zeros(k)\n",
        "N1 = np.zeros(k)\n",
        "N2 = np.zeros(k)\n",
        "B2 = np.zeros(k)\n",
        "lambda1 = np.zeros(k)\n",
        "rho1 = np.zeros(k)\n",
        "\n",
        "p = np.zeros((g+1, C+1))\n",
        "\n",
        "lambda1[0]=start_value\n",
        "for i in range(1, k):\n",
        "    lambda1[i] = lambda1[i-1]+step\n",
        "\n",
        "for i in range(0, k):\n",
        "    rho1[i] = lambda1[i]/mu\n",
        "\n",
        "rho2=lambda2/mu"
      ]
    },
    {
      "cell_type": "code",
      "execution_count": 45,
      "metadata": {
        "colab": {
          "base_uri": "https://localhost:8080/"
        },
        "id": "Sl49bnivn2gA",
        "outputId": "67ffdf21-0770-4a41-cfc4-5ad0d82252cc",
        "scrolled": true
      },
      "outputs": [
        {
          "data": {
            "text/plain": [
              "0.6666666666666666"
            ]
          },
          "execution_count": 45,
          "metadata": {},
          "output_type": "execute_result"
        }
      ],
      "source": [
        "lambda1[0]/mu"
      ]
    },
    {
      "cell_type": "code",
      "execution_count": 46,
      "metadata": {
        "id": "VeDJ3dHPn2gB"
      },
      "outputs": [],
      "source": [
        "for i in range(0,k):\n",
        "    p=vertn(C, rho1[i], rho2, p, g)\n",
        "\n",
        "    for n1 in range(0, g+1):\n",
        "        for n2 in range(0, C+1):\n",
        "            if (n1==g) or (n1+n2==C):\n",
        "                B1[i]=B1[i]+p[n1][n2]\n",
        "            if (n1+n2==C):\n",
        "                B2[i]=B2[i]+p[n1][n2]\n",
        "            if (n1+n2<(C+1)):\n",
        "                N[i]=N[i]+(n1+n2)*p[n1][n2]\n",
        "                N1[i]=N1[i]+(n1)*p[n1][n2]\n",
        "                N2[i]=N2[i]+(n2)*p[n1][n2]"
      ]
    },
    {
      "cell_type": "code",
      "execution_count": 47,
      "metadata": {
        "colab": {
          "base_uri": "https://localhost:8080/"
        },
        "id": "Zytb_VYWn2gB",
        "outputId": "046db10f-490c-460e-bde5-cb16373b4d7e"
      },
      "outputs": [
        {
          "data": {
            "text/plain": [
              "array([1.99962436, 2.33026585, 2.65429324, 2.96601636, 3.25993884,\n",
              "       3.53196836, 3.77987814, 4.00317029, 4.20264677, 4.37993089,\n",
              "       4.53706584, 4.67622775, 4.7995444 , 4.90899423, 5.00635969,\n",
              "       5.09321462, 5.17093066, 5.24069363, 5.30352379, 5.36029684,\n",
              "       5.41176387, 5.45856933, 5.50126691, 5.54033323, 5.57617948,\n",
              "       5.60916138, 5.63958745, 5.66772611, 5.69381156, 5.71804875,\n",
              "       5.74061756, 5.76167636, 5.78136495, 5.7998071 , 5.81711271,\n",
              "       5.8333796 , 5.84869507, 5.86313725, 5.87677621])"
            ]
          },
          "execution_count": 47,
          "metadata": {},
          "output_type": "execute_result"
        }
      ],
      "source": [
        "N"
      ]
    },
    {
      "cell_type": "code",
      "execution_count": 48,
      "metadata": {
        "colab": {
          "base_uri": "https://localhost:8080/"
        },
        "id": "Gpasxc_Mn2gC",
        "outputId": "423875c6-f463-4f53-8f56-87a7fe6b1d01"
      },
      "outputs": [
        {
          "data": {
            "text/plain": [
              "array([ 1. ,  1.5,  2. ,  2.5,  3. ,  3.5,  4. ,  4.5,  5. ,  5.5,  6. ,\n",
              "        6.5,  7. ,  7.5,  8. ,  8.5,  9. ,  9.5, 10. , 10.5, 11. , 11.5,\n",
              "       12. , 12.5, 13. , 13.5, 14. , 14.5, 15. , 15.5, 16. , 16.5, 17. ,\n",
              "       17.5, 18. , 18.5, 19. , 19.5, 20. ])"
            ]
          },
          "execution_count": 48,
          "metadata": {},
          "output_type": "execute_result"
        }
      ],
      "source": [
        "lambda1"
      ]
    },
    {
      "cell_type": "code",
      "execution_count": 49,
      "metadata": {
        "colab": {
          "base_uri": "https://localhost:8080/",
          "height": 872
        },
        "id": "aXu-EEpjn2gC",
        "outputId": "b0a3270d-4fcd-4483-9bc8-03a0617af9bd"
      },
      "outputs": [
        {
          "data": {
            "text/plain": [
              "<matplotlib.legend.Legend at 0x139e0884280>"
            ]
          },
          "execution_count": 49,
          "metadata": {},
          "output_type": "execute_result"
        },
        {
          "data": {
            "image/png": "[encoded data removed]",
            "text/plain": [
              "<Figure size 1000x1000 with 1 Axes>"
            ]
          },
          "metadata": {},
          "output_type": "display_data"
        }
      ],
      "source": [
        "fig = plt.figure(figsize=(10,10))\n",
        "plt.plot(lambda1, B1, label = \"B_1\", color='green')\n",
        "plt.plot(lambda1, B2, label = \"B_2\", color='black')\n",
        "plt.title(\"вероятность блокировки\")\n",
        "plt.xlabel(\"Lambda_1\")\n",
        "plt.ylabel(\"Amount\")\n",
        "plt.legend()"
      ]
    },
    {
      "cell_type": "code",
      "execution_count": 50,
      "metadata": {
        "colab": {
          "base_uri": "https://localhost:8080/",
          "height": 872
        },
        "id": "6IePVhlOn2gD",
        "outputId": "249b5c88-4ece-418e-e911-1a4bb5f79daf",
        "scrolled": true
      },
      "outputs": [
        {
          "data": {
            "text/plain": [
              "<matplotlib.legend.Legend at 0x139e0a83a00>"
            ]
          },
          "execution_count": 50,
          "metadata": {},
          "output_type": "execute_result"
        },
        {
          "data": {
            "image/png": "[encoded data removed]",
            "text/plain": [
              "<Figure size 1000x1000 with 1 Axes>"
            ]
          },
          "metadata": {},
          "output_type": "display_data"
        }
      ],
      "source": [
        "fig = plt.figure(figsize=(10,10))\n",
        "plt.plot(lambda1, N, label = \"NN\")\n",
        "plt.title(\"Среднее число запросов\")\n",
        "plt.xlabel(\"Lambda_1\")\n",
        "plt.ylabel(\"Time\")\n",
        "plt.legend()\n",
        "plt.legend()"
      ]
    },
    {
      "cell_type": "markdown",
      "metadata": {
        "id": "yiVqJS7vn2gE"
      },
      "source": [
        "## Значения B_1 B_2 N_1 NT_2"
      ]
    },
    {
      "cell_type": "code",
      "execution_count": 51,
      "metadata": {
        "colab": {
          "base_uri": "https://localhost:8080/"
        },
        "id": "NcfVOCH9n2gF",
        "outputId": "0046928c-9391-4637-d9f6-1c9b5489a1b2"
      },
      "outputs": [
        {
          "data": {
            "text/plain": [
              "0.000563459642211198"
            ]
          },
          "execution_count": 51,
          "metadata": {},
          "output_type": "execute_result"
        }
      ],
      "source": [
        "B1[0]"
      ]
    },
    {
      "cell_type": "code",
      "execution_count": 52,
      "metadata": {
        "colab": {
          "base_uri": "https://localhost:8080/"
        },
        "id": "6l_Hamg7n2gF",
        "outputId": "3d1daef8-7f3d-4028-9854-ac5048840e5a"
      },
      "outputs": [
        {
          "data": {
            "text/plain": [
              "1.733745915125876e-14"
            ]
          },
          "execution_count": 52,
          "metadata": {},
          "output_type": "execute_result"
        }
      ],
      "source": [
        "B2[0]"
      ]
    },
    {
      "cell_type": "code",
      "execution_count": 53,
      "metadata": {
        "colab": {
          "base_uri": "https://localhost:8080/"
        },
        "id": "OnhTKBM_n2gG",
        "outputId": "13211a4c-beb8-42c9-8e8a-c2a107d3193f"
      },
      "outputs": [
        {
          "data": {
            "text/plain": [
              "1.9996243602385038"
            ]
          },
          "execution_count": 53,
          "metadata": {},
          "output_type": "execute_result"
        }
      ],
      "source": [
        "N[0]"
      ]
    },
    {
      "cell_type": "code",
      "execution_count": 54,
      "metadata": {
        "colab": {
          "base_uri": "https://localhost:8080/"
        },
        "id": "y2ly4vJpn2gG",
        "outputId": "ab061485-944e-43b7-cbdd-3f9f95c2419f"
      },
      "outputs": [
        {
          "data": {
            "text/plain": [
              "0.6662910269051932"
            ]
          },
          "execution_count": 54,
          "metadata": {},
          "output_type": "execute_result"
        }
      ],
      "source": [
        "N1[0]"
      ]
    },
    {
      "cell_type": "code",
      "execution_count": 55,
      "metadata": {
        "colab": {
          "base_uri": "https://localhost:8080/"
        },
        "id": "A-U_tkfgn2gG",
        "outputId": "bfa88a4a-14bf-48e8-91b8-2ac76accf99b"
      },
      "outputs": [
        {
          "data": {
            "text/plain": [
              "1.3333333333333113"
            ]
          },
          "execution_count": 55,
          "metadata": {},
          "output_type": "execute_result"
        }
      ],
      "source": [
        "N2[0]"
      ]
    },
    {
      "cell_type": "markdown",
      "metadata": {
        "id": "KG04JxuBn2gH"
      },
      "source": [
        "## Распределение вероятности"
      ]
    },
    {
      "cell_type": "code",
      "execution_count": 56,
      "metadata": {
        "colab": {
          "base_uri": "https://localhost:8080/"
        },
        "id": "72bnUBOon2gH",
        "outputId": "1a2e065c-f1b1-4f15-82ed-0d8bbd6b31d9"
      },
      "outputs": [
        {
          "data": {
            "text/plain": [
              "array([[4.94849323e-05, 6.59799097e-05, 4.39866064e-05, 1.95496029e-05,\n",
              "        6.51653429e-06, 1.73774248e-06, 3.86164995e-07, 7.35552371e-08,\n",
              "        1.22592062e-08, 1.81617869e-09, 2.42157159e-10, 2.93523829e-11,\n",
              "        3.26137588e-12, 3.34500090e-13, 3.18571515e-14, 2.83174680e-15,\n",
              "        2.35978900e-16, 1.85081490e-17, 1.37097400e-18, 9.62087018e-20,\n",
              "        6.41391345e-21],\n",
              "       [6.59799097e-04, 8.79732129e-04, 5.86488086e-04, 2.60661372e-04,\n",
              "        8.68871238e-05, 2.31698997e-05, 5.14886660e-06, 9.80736495e-07,\n",
              "        1.63456082e-07, 2.42157159e-08, 3.22876212e-09, 3.91365106e-10,\n",
              "        4.34850118e-11, 4.46000121e-12, 4.24762020e-13, 3.77566240e-14,\n",
              "        3.14638533e-15, 2.46775320e-16, 1.82796533e-17, 1.28278269e-18,\n",
              "        0.00000000e+00],\n",
              "       [4.39866064e-03, 5.86488086e-03, 3.90992057e-03, 1.73774248e-03,\n",
              "        5.79247492e-04, 1.54465998e-04, 3.43257773e-05, 6.53824330e-06,\n",
              "        1.08970722e-06, 1.61438106e-07, 2.15250808e-08, 2.60910071e-09,\n",
              "        2.89900078e-10, 2.97333414e-11, 2.83174680e-12, 2.51710826e-13,\n",
              "        2.09759022e-14, 1.64516880e-15, 1.21864356e-16, 0.00000000e+00,\n",
              "        0.00000000e+00],\n",
              "       [1.95496029e-02, 2.60661372e-02, 1.73774248e-02, 7.72329990e-03,\n",
              "        2.57443330e-03, 6.86515546e-04, 1.52559010e-04, 2.90588591e-05,\n",
              "        4.84314318e-06, 7.17502694e-07, 9.56670259e-08, 1.15960031e-08,\n",
              "        1.28844479e-09, 1.32148184e-10, 1.25855413e-11, 1.11871478e-12,\n",
              "        9.32262320e-14, 7.31186133e-15, 0.00000000e+00, 0.00000000e+00,\n",
              "        0.00000000e+00],\n",
              "       [6.51653429e-02, 8.68871238e-02, 5.79247492e-02, 2.57443330e-02,\n",
              "        8.58144433e-03, 2.28838515e-03, 5.08530034e-04, 9.68628637e-05,\n",
              "        1.61438106e-05, 2.39167565e-06, 3.18890086e-07, 3.86533438e-08,\n",
              "        4.29481598e-09, 4.40493946e-10, 4.19518044e-11, 3.72904928e-12,\n",
              "        3.10754107e-13, 0.00000000e+00, 0.00000000e+00, 0.00000000e+00,\n",
              "        0.00000000e+00],\n",
              "       [1.73774248e-01, 2.31698997e-01, 1.54465998e-01, 6.86515546e-02,\n",
              "        2.28838515e-02, 6.10236041e-03, 1.35608009e-03, 2.58300970e-04,\n",
              "        4.30501616e-05, 6.37780172e-06, 8.50373563e-07, 1.03075583e-07,\n",
              "        1.14528426e-08, 1.17465052e-09, 1.11871478e-10, 9.94413142e-12,\n",
              "        0.00000000e+00, 0.00000000e+00, 0.00000000e+00, 0.00000000e+00,\n",
              "        0.00000000e+00]])"
            ]
          },
          "execution_count": 56,
          "metadata": {},
          "output_type": "execute_result"
        }
      ],
      "source": [
        "p"
      ]
    },
    {
      "cell_type": "code",
      "execution_count": 57,
      "metadata": {
        "colab": {
          "base_uri": "https://localhost:8080/"
        },
        "id": "qlQQA4Mln2gH",
        "outputId": "87be35f3-fefe-4ea5-d60f-2f550107824f"
      },
      "outputs": [
        {
          "data": {
            "text/plain": [
              "array([2.63597138e-01, 3.51462851e-01, 2.34308567e-01, 1.04137141e-01,\n",
              "       3.47123803e-02, 9.25663475e-03, 2.05702995e-03, 3.91815228e-04,\n",
              "       6.53025379e-05, 9.67445007e-06, 1.28992668e-06, 1.56354749e-07,\n",
              "       1.73727498e-08, 1.78182050e-09, 1.69697190e-10, 1.50841947e-11,\n",
              "       4.28338605e-13, 9.22231360e-15, 1.41514983e-16, 1.37899139e-18,\n",
              "       6.41391345e-21])"
            ]
          },
          "execution_count": 57,
          "metadata": {},
          "output_type": "execute_result"
        }
      ],
      "source": [
        "sum(p)"
      ]
    },
    {
      "cell_type": "code",
      "execution_count": 58,
      "metadata": {
        "colab": {
          "base_uri": "https://localhost:8080/"
        },
        "id": "SYmS73xPn2gI",
        "outputId": "056ab2f4-18c3-4d92-8d47-aa6de5b76242"
      },
      "outputs": [
        {
          "data": {
            "text/plain": [
              "1.0000000000000002"
            ]
          },
          "execution_count": 58,
          "metadata": {},
          "output_type": "execute_result"
        }
      ],
      "source": [
        "sum(sum(p))"
      ]
    },
    {
      "cell_type": "code",
      "execution_count": null,
      "metadata": {
        "id": "tF_Wnbqon2gI"
      },
      "outputs": [],
      "source": []
    }
  ],
  "metadata": {
    "colab": {
      "provenance": []
    },
    "kernelspec": {
      "display_name": "Python 3 (ipykernel)",
      "language": "python",
      "name": "python3"
    },
    "language_info": {
      "codemirror_mode": {
        "name": "ipython",
        "version": 3
      },
      "file_extension": ".py",
      "mimetype": "text/x-python",
      "name": "python",
      "nbconvert_exporter": "python",
      "pygments_lexer": "ipython3",
      "version": "3.9.13"
    }
  },
  "nbformat": 4,
  "nbformat_minor": 0
}
