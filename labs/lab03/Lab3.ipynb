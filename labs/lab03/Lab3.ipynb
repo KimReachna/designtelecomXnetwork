{
  "nbformat": 4,
  "nbformat_minor": 0,
  "metadata": {
    "colab": {
      "provenance": []
    },
    "kernelspec": {
      "name": "python3",
      "display_name": "Python 3"
    },
    "language_info": {
      "name": "python"
    }
  },
  "cells": [
    {
      "cell_type": "markdown",
      "source": [
        "# Two-service model with elastic traffic\n",
        "\n",
        "Let 's analyze the network cell with a capacity of . Let users generate two types of data transfer requests. Data transfer requests are Poisson flows with intensity $λ_i, i = 1,2$. The average length of the transmitted file is $θ_i , i =1,2$. The minimum capacity required for data transmission is $b_i, i =1,2$."
      ],
      "metadata": {
        "id": "behwqHeC8RBO"
      }
    },
    {
      "cell_type": "markdown",
      "source": [
        "* $C$ - peak cell throughput;\n",
        "* $λ_i$, $i=1,2$ - the intensity of receipt of requests for data transmission of the first/second type [requests/units.bp];\n",
        "* $θ_i$, $i=1,2$ - the length of the transmitted file of the first/second type [bit];\n",
        "* $\\rho_{i}^1$, $i=1,2$ - the intensity of the proposed load created by requests for data transmission of the first/second type;\n",
        "* $a_i, i=1,2$ - the share of the load created by requests for data transmission of the first/second type, which falls on a unit of bandwidth (dimensionless value);\n",
        "* $b_i, i=1,2$ - the minimum requirement for network resources required for data transmission of the first/second type;\n",
        "* $X_i(t), i=1,2$ - the number of data transfer requests of the first/second type served in the system at time t , t ≥ 0 ;\n",
        "* $X(t)=(X_1(t),(X_2(t))$ - SP describing the functioning of the system at time t , t ≥ 0 ;\n",
        "* $X$ is the state space of the system;\n",
        "* $n_i, i=1,2$ - the number of data blocks of the first/second type transmitted in the system;\n",
        "* $B_i, i=1,2$ - a set of blocking requests for data transfer of the first/second type;\n",
        "* $S_i, i=1,2$ - the set of receiving requests for data transmission of the first/second type."
      ],
      "metadata": {
        "id": "FLp3RrIp9yau"
      }
    },
    {
      "cell_type": "markdown",
      "source": [
        "Model diagram (Fig. 11.1):\n",
        "\n",
        "![alt text](https://psv4.userapi.com/c235031/u612734673/docs/d45/ea3857921d5c/1.png?extra=Z3ENBISOtcwmkmRGExqkjzc53ExkphCySchNobOHNaaUdBbnjpGL_k7r6_X4xJWRn6aC-YQsab1NGiVt41-cv4cG4iOH-tK9CACiN8O08jXQAgOPEHV-P1b_WI4XUd9QYlwVSxf2ox2Tgg4C8tJvo4QE)\n",
        "\n",
        "fig. 11.1. Scheme of a two-service model with elastic traffic\n",
        "\n",
        "The system state space (Fig. 11.2):\n",
        "\\begin{equation}\n",
        "\\tag{11.1}\n",
        "X=\\{(n_1,n_2):n_1 \\geq0,n_2 \\geq 0\\}\n",
        "\\end{equation}\n",
        "\n",
        "Consider some central state $(n_1,n_2), (n_1,n_2) \\in X$ . Let's construct a diagram of transition intensities for the central state (Fig. 11.3):\n",
        "\n",
        "![alt text](https://psv4.userapi.com/c235031/u612734673/docs/d42/8ea60d5a9c93/2.png?extra=loFXIkBPsew-zopH8BvOQNsTDaX26jBFJHc7zrYPlnhGnmmrfBsVYQ75y1BUvvj1E8vQe7T7WiUpcbGV31-bU0oOrgx0BDa1Oc2LXDCOmLIGtf1hqkjILunTtsHrxYJPcEt2mfBVjTq2jOXZVjl3Jbyp)\n",
        "\n",
        "fig.11.3. Diagram of transition intensities for the central state of a two-service model with elastic traffic\n",
        "\n",
        "\n"
      ],
      "metadata": {
        "id": "d-Pyu-Qn_Ot5"
      }
    },
    {
      "cell_type": "markdown",
      "source": [
        "Explanations:\n",
        "- $\\frac{C}{n_1+n_2}$ -the data transfer rate of the first/second type in the state $(n_1,n_2)$;\n",
        "- $\\frac{\\theta_1}{\\frac{C}{n_1+n_2}} = \\frac{\\theta_1}{C} (n_1+n_2)$ -the average service time of a data transfer request of the first type in the state $(n_1,n_2)$;\n",
        "- $\\frac{\\theta_2}{\\frac{C}{n_1+n_2}} = \\frac{\\theta_2}{C} (n_1+n_2)$ - the average service time of a data transfer request of the second type in the state $(n_1,n_2)$;\n",
        "- $\\frac{C}{\\theta_1 (n_1+n_2)}$ - the intensity of the service request for the transmission of data of the first type in the state $(n_1,n_2)$;\n",
        "- $\\frac{C}{\\theta_2 (n_1+n_2)}$ - the intensity of the service request for the transfer of data of the second type in the state $(n_1,n_2)$."
      ],
      "metadata": {
        "id": "4UpeGThfByFP"
      }
    },
    {
      "cell_type": "markdown",
      "source": [
        "**Set of blocking of data transfer requests:**\n",
        "\\begin{equation}\n",
        "\\tag{11.2}\n",
        "B_i=\\{\\emptyset\\}, i=1,2\n",
        "\\end{equation}\n",
        "**The set of receiving data transfer requests:**\n",
        "\\begin{equation}\n",
        "\\tag{11.3}\n",
        "S_i=\\bar B_i=X\\backslash B_i={0,1,2,...}, i=1,2.\n",
        "\\end{equation}\n",
        "**System of global balance equations (СУГБ):**\n",
        "\\begin{equation}\n",
        "\\tag{11.4}\n",
        "\\left(\\lambda_1+\\lambda_2+ \\frac{C}{(n_1+n_2) \\theta_1}n_1+\\frac{C}{(n_1+n_2)\\theta_2}n_2\\right).p(n_1,n_2) = \\lambda_1p (n_1-1,n_2).U(n_1) + \\lambda_2p (n_1,n_2-1).U(n_2) + \\frac{C}{(n_1+1+n_2)\\theta_1} (n_1+1)p(n_1+1,n_2) + \\frac{C}{(n_1+n_2+1)\\theta_2}(n_2+1)p(n_1,n_2+1), (n_1,n_2)\\in X.\n",
        "\\end{equation}"
      ],
      "metadata": {
        "id": "eMTYwsRECHZW"
      }
    },
    {
      "cell_type": "markdown",
      "source": [
        "To write out a system of partial balance equations (SUGB), check the criterion Kolmogorov. Consider an arbitrary closed contour (Fig. 11.4)\n",
        "![alt text](https://psv4.userapi.com/c909218/u612734673/docs/d21/cd77bc3aa938/3.png?extra=3lQsfeq7gewuwFj1BS0J8sKzCRG_wHQTJ_tsx8v7Wd7s8VbqWiQ5KwEcq9vBV9vX7z_iLHylkRCJSE5-gPI4FtV74__3E-hdr0pf7Wgqcr1P0FkvRPU6fPd3kvwv7jmDTLQgIdDfU_7HkdBE918DMvaN)\n",
        "\n",
        "fig 11.4. Arbitrary closed loop for a two-service model with elastic traffic\n"
      ],
      "metadata": {
        "id": "WdpLsb-9Cd_2"
      }
    },
    {
      "cell_type": "markdown",
      "source": [
        "Consider the product of transition intensities:\n",
        "- clockwise: $\\frac{n_2}{n_1+n_2}\\frac{C}{\\theta_2}\\frac{n_1}{n_1+n_2-1}\\frac{C}{\\theta_1}\\lambda_1\\lambda_2$\n",
        "- counterclockwise: $\\frac{n_1}{n_1+n_2}\\frac{C}{\\theta_1}\\frac{n_2}{n_1+n_2-1}\\frac{C}{\\theta_2}\\lambda_1\\lambda_2$\n",
        "\n",
        "The works are equal. The criterion is fulfilled, therefore,random process $\\left(X_1(t),X_2(t)\\right)$, describing the behavior of the system is a reversible Markov process, СУЧБ exists.\n",
        "\n",
        "СУЧБ:\n",
        "\\begin{equation}\n",
        "\\tag{11.5}\n",
        "\\begin{cases}\n",
        "p(n_1,n_2)\\frac{C}{(n_1+n_2)\\theta_1}n_1 = \\lambda_1p(n_1-1,n_2),n_1>0, \\\\\n",
        "p(n_1,n_2)\\frac{C}{(n_1+n_2)\\theta_2}n_2 = \\lambda_1p(n_1,n_2-1),n_2>0, (n_1,n_2) \\in X.\n",
        "\\end{cases}\n",
        "\\end{equation}\n",
        "\n",
        "Обозначим\n",
        "$\\rho_i=\\lambda_i\\theta_i, a_1=\\frac{\\rho_i}{C}, \\rho_i<C, i=1,2$\n"
      ],
      "metadata": {
        "id": "8rdM_pBvDEAU"
      }
    },
    {
      "cell_type": "markdown",
      "source": [
        "**Stationary probability distribution of system states:**\n",
        "\\begin{equation}\n",
        "p(n_1,n_2)=\\frac{a_1^{n_1}}{n_1!}\\frac{a_2^{n_2}}{n_2!}(n_1+n_2)!p(0,0),\n",
        "\\end{equation}\n",
        "\n",
        "где:\n",
        "\\begin{equation}\n",
        "\\tag{11.7}\n",
        "p(0,0)=\\sum_{(n_1,n_2)\\in X}{(n_1+n_2)!}\\frac{a_1^{n_1}}{n_1!}\\frac{a_2^{n_2}}{n_2!}\n",
        "\\end{equation}"
      ],
      "metadata": {
        "id": "KRS8hNvUJCJm"
      }
    },
    {
      "cell_type": "markdown",
      "source": [
        "**The main probabilistic characteristics of the model:**\n",
        "- The probability of blocking in time $E_i, i = 1,2$ requests for data transmission of the first / second type\n",
        "\\begin{equation}\n",
        "\\tag{11.8}\n",
        "E_1=E_2=0;\n",
        "\\end{equation}\n",
        "- The average number of $N_i, i =1,2$ data transfer requests\n",
        "of the first/second type served in the system:\n",
        "\n",
        "\\begin{equation}\n",
        "\\tag{11.9}\n",
        "\\bar N_i=\\lambda_i\\frac{\\theta_i}{(\\theta_1\\lambda_1+\\theta_2\\lambda_2)}, i=1,2\n",
        "\\end{equation}\n",
        "\n",
        "- Average time $T_i,i=1,2$ service request for data transmission of the first/second type:\n",
        "\n",
        "\\begin{equation}\n",
        "\\tag{11.10}\n",
        "T_i=\\frac{\\bar N_i}{\\lambda_i}\n",
        "\\end{equation}"
      ],
      "metadata": {
        "id": "rmDuGHD-J9EK"
      }
    },
    {
      "cell_type": "markdown",
      "source": [
        "**Tasks:**\n",
        "1. Describe step by step the algorithm for calculating the probability distribution of the model states (the probability of blocking a request of each type, the average number of requests in the system).\n",
        "2. Create a program that implements the calculation of the probability distribution, the average number of serviced requests for any values of the source data, the average time of servicing the request. The program should display:\n",
        "    - the value of the probability distribution\n",
        "    - the value of the average number of requests,\n",
        "    - the value of the average request service time\n",
        "3. Plot the dependence of the average service time of the request on the intensity of receipt of service requests.\n",
        "4. Plot the dependence of the average number of serviced requests on the intensity of receipt of requests for the provision of services.\n"
      ],
      "metadata": {
        "id": "ncfGljg3LXrM"
      }
    }
  ]
}